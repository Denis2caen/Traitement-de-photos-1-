{
 "cells": [
  {
   "cell_type": "markdown",
   "metadata": {},
   "source": [
    "## Thème 5 : Manipulation d'image avec Python"
   ]
  },
  {
   "cell_type": "markdown",
   "metadata": {},
   "source": [
    "Entrer son **NOM** et son **prénom** dans la cellule ci-dessous"
   ]
  },
  {
   "cell_type": "raw",
   "metadata": {},
   "source": []
  },
  {
   "cell_type": "markdown",
   "metadata": {},
   "source": [
    "### L'image qui va être utilisée, pour commencer, est *poisson.jpg*  \n",
    "C'est une image couleur au format RVB, chaque canal étant codé par un octet (valeurs de 0 à 255).  \n",
    "Il est possible d'en utiliser une autre en la téléchargeant :  \n",
    "> Menu **File**  **Open**, puis **upload** *(en haut à droite)*, puis **téléverser**."
   ]
  },
  {
   "cell_type": "markdown",
   "metadata": {},
   "source": [
    "La librairie PIL (Python Imaging Library) fournit les outils nécessaires pour les manipulations d'images que nous aborderons dans cette page. Ces manipulations sont simples et il existe des librairies plus complètes pour aborder les fonctions avancées de traitement des images."
   ]
  },
  {
   "cell_type": "code",
   "execution_count": null,
   "metadata": {},
   "outputs": [],
   "source": [
    "from PIL import Image"
   ]
  },
  {
   "cell_type": "markdown",
   "metadata": {},
   "source": [
    "Exemples d'instructions et de morceaux de codes qui permettent de travailler sur une image :  \n",
    "- Ouverture du fichier *Mon_Image.jpg* et création de l'objet img1 :  \n",
    "**img1=Image.open(\"Mon_Image.jpg\")**  \n",
    "- On récupère la couleur du pixel (i,j) de l'image img1 sous la forme d'un tuple (r, v, b) :  \n",
    "**img1.getpixel((i, j))**  \n",
    "- On attribue la couleur (r,v,b) au pixel (i,j) :  \n",
    "**img1.putpixel((i, j), (r,v,b))**  \n",
    "- On enregistre l'image crée sous le sous nom *img2.jpg* :  \n",
    "**img1.save(\"img2.jpg\"**  \n",
    "- On montre l'image img2 :  \n",
    "**img2.show()**  \n",
    "  \n",
    "Exemple :"
   ]
  },
  {
   "cell_type": "code",
   "execution_count": null,
   "metadata": {},
   "outputs": [],
   "source": [
    "from PIL import Image\n",
    "img = Image.open(\"poisson.jpg\")\n",
    "img.show() # Attention, l'image s'affiche sur une autre application de l'ordinateur (Photos de Windows).\n",
    "r,v,b=img.getpixel((100,250))\n",
    "print(\"canal rouge : \",r,\"canal vert : \",v,\"canal bleu : \",b)\n",
    "img  # l'image s'affiche en-dessous"
   ]
  },
  {
   "cell_type": "markdown",
   "metadata": {},
   "source": [
    "*Pour la suite du travail, choisir un mode d'affichage, selon l'ordinateur : en-dessous de la cellule ou avec une autre application de l'ordinateur.*"
   ]
  },
  {
   "cell_type": "markdown",
   "metadata": {},
   "source": [
    "**Expliquer en quelques lignes** ce que fait ce programme, préciser ce que représentent r, v et b : "
   ]
  },
  {
   "cell_type": "raw",
   "metadata": {},
   "source": []
  },
  {
   "cell_type": "markdown",
   "metadata": {},
   "source": [
    "**Modifier le programme** pour qu'il affiche les valeurs du canal rouge, du canal vert et du canal bleu du pixel de coordonnées (300,200), notez votre réponse :  \n",
    "\n"
   ]
  },
  {
   "cell_type": "raw",
   "metadata": {},
   "source": []
  },
  {
   "cell_type": "markdown",
   "metadata": {},
   "source": [
    "Il est possible d'accéder aux caractéristiques de l'image avec les commandes suivantes :  \n",
    "\n",
    ">  .format  : format de la source de l’image,  \n",
    ">  .size  : taille de l’image(largeur, hauteur en pixels),  \n",
    ">  .mode  : noms et type des différents canaux de l’image (« RGB » = 3 canaux Rouge, Vert et Bleu – « L » = un canal pour niveaux de gris – …).\n"
   ]
  },
  {
   "cell_type": "code",
   "execution_count": null,
   "metadata": {},
   "outputs": [],
   "source": [
    "print(img.format, img.size, img.mode)"
   ]
  },
  {
   "cell_type": "markdown",
   "metadata": {},
   "source": [
    "Il est possible de modifier les canaux RVB d'un pixel avec *img.putpixel((i, j), (r,v,b))* : "
   ]
  },
  {
   "cell_type": "code",
   "execution_count": null,
   "metadata": {},
   "outputs": [],
   "source": [
    "img.putpixel((410,260),(0,0,255))\n",
    "img"
   ]
  },
  {
   "cell_type": "markdown",
   "metadata": {},
   "source": [
    "Observer bien l'image formée. Quelle est la couleur du pixel qui a été modifié ? (sur la gauche de l'oeil)  "
   ]
  },
  {
   "cell_type": "raw",
   "metadata": {},
   "source": []
  },
  {
   "cell_type": "markdown",
   "metadata": {},
   "source": [
    "Que font les 2 lignes de code ? :  \n",
    "> img.putpixel((410,260),(0,0,255))  \n",
    "> img  \n"
   ]
  },
  {
   "cell_type": "raw",
   "metadata": {},
   "source": []
  },
  {
   "cell_type": "markdown",
   "metadata": {},
   "source": [
    "**Modifier le code** pour colorier, en plus, le pixel de coordonnées (409,260) en vert. "
   ]
  },
  {
   "cell_type": "code",
   "execution_count": null,
   "metadata": {},
   "outputs": [],
   "source": []
  },
  {
   "cell_type": "markdown",
   "metadata": {},
   "source": [
    "Pour modifier plusieurs pixels, il faut utiliser une boucle (for).  \n",
    "Si la taille de l'image est inconnue, il faut d'abord la déterminer, avec *.size  (largeur, puis hauteur)"
   ]
  },
  {
   "cell_type": "code",
   "execution_count": null,
   "metadata": {},
   "outputs": [],
   "source": [
    "largeur_image, hauteur_image = img.size\n",
    "print(\"la largeur est : \",largeur_image,\" pixels et la hauteur : \",hauteur_image)"
   ]
  },
  {
   "cell_type": "code",
   "execution_count": null,
   "metadata": {},
   "outputs": [],
   "source": [
    "for y in range(hauteur_image):\n",
    "    for x in range(largeur_image):\n",
    "        r,v,b=img.getpixel((x,y))\n",
    "        n_r=v\n",
    "        n_v=b\n",
    "        n_b=r\n",
    "        img.putpixel((x,y),(n_r,n_v,n_b))\n",
    "#img.show()\n",
    "img"
   ]
  },
  {
   "cell_type": "markdown",
   "metadata": {},
   "source": [
    "Que fait ce programme ?"
   ]
  },
  {
   "cell_type": "raw",
   "metadata": {},
   "source": []
  },
  {
   "cell_type": "markdown",
   "metadata": {},
   "source": [
    "Écrire un programme qui inverse les valeurs des canaux bleu et rouge sans changer la valeur du canal vert. "
   ]
  },
  {
   "cell_type": "code",
   "execution_count": null,
   "metadata": {},
   "outputs": [],
   "source": []
  },
  {
   "cell_type": "markdown",
   "metadata": {},
   "source": [
    "Écrire un programme qui donne le négatif de l'image."
   ]
  },
  {
   "cell_type": "code",
   "execution_count": null,
   "metadata": {},
   "outputs": [],
   "source": []
  },
  {
   "cell_type": "markdown",
   "metadata": {},
   "source": [
    "### enregistrer cette page en html  \n",
    "**Menu** **File** / **Download as** / **HTML**  \n",
    "Puis la récupérer dans le dossier **téléchargement** et la faire parvenir au professeur (via l'ENT ou par mail)"
   ]
  }
 ],
 "metadata": {
  "kernelspec": {
   "display_name": "Python 3",
   "language": "python",
   "name": "python3"
  },
  "language_info": {
   "codemirror_mode": {
    "name": "ipython",
    "version": 3
   },
   "file_extension": ".py",
   "mimetype": "text/x-python",
   "name": "python",
   "nbconvert_exporter": "python",
   "pygments_lexer": "ipython3",
   "version": "3.7.3"
  }
 },
 "nbformat": 4,
 "nbformat_minor": 2
}
